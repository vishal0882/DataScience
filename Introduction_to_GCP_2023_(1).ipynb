{
  "nbformat": 4,
  "nbformat_minor": 0,
  "metadata": {
    "colab": {
      "provenance": [],
      "include_colab_link": true
    },
    "kernelspec": {
      "name": "python3",
      "display_name": "Python 3"
    },
    "language_info": {
      "name": "python"
    }
  },
  "cells": [
    {
      "cell_type": "markdown",
      "metadata": {
        "id": "view-in-github",
        "colab_type": "text"
      },
      "source": [
        "<a href=\"https://colab.research.google.com/github/vishal0882/DataScience/blob/main/Introduction_to_GCP_2023_(1).ipynb\" target=\"_parent\"><img src=\"https://colab.research.google.com/assets/colab-badge.svg\" alt=\"Open In Colab\"/></a>"
      ]
    },
    {
      "cell_type": "markdown",
      "metadata": {
        "id": "zB_ThSd3pH_D"
      },
      "source": [
        "<center><img src=\"https://gitlab.com/accredian/insaid-data/-/raw/main/Logo-Accredian/Case-Study-Cropped.png\" width= 30% /></center>\n",
        "\n",
        "# <center>**Introduction to GCP**</center>"
      ]
    },
    {
      "cell_type": "markdown",
      "metadata": {
        "id": "t4-A2W21pVWI"
      },
      "source": [
        "----\n",
        "# **Table of Contents:**\n",
        "---\n",
        "\n",
        "**1.** [**Introduction**](#section1)<br>\n",
        "**2.** [**Services Provided by GCP**](#section2)<br>\n",
        "**3.** [**GCP Storage Services**](#section2)<br>\n",
        "  - **3.1** [**Create GCP Bucket**](#section5)<br>\n",
        "\n",
        "**4.** [**Deployment Methods on GCP**](#section3)<br>\n",
        "  - **4.1** [**Google Compute Engine**](#section4)<br>\n",
        "  - **4.2** [**Google Kubernetes Engine**](#section5)<br>\n",
        "  - **4.3** [**Google App Engine**](#section5)<br>\n",
        "  - **4.4** [**Cloud Functions**](#section5)<br>\n",
        "  - **4.5** [**Which method should we choose?**](#section5)<br>\n",
        "\n",
        "**5.** [**Create Compute Engine Instance**](#section4)<br>\n",
        "**6.** [**AI/ML on GCP**](#section7)<br>\n",
        "  - **6.1** [**Cloud AI Platform**](#section4)<br>\n",
        "  - **6.2** [**AutoML**](#section5)<br>\n",
        "\n",
        "**7.** [**Vertex AI**](#section7)\n",
        "  - **7.1** [**Vertex AI Notebook**](#section4)<br>\n",
        "\n",
        "**8.** [**Concluion**](#section7)"
      ]
    },
    {
      "cell_type": "markdown",
      "metadata": {
        "id": "n45PvqVf1NqL"
      },
      "source": [
        "----\n",
        "<a id=section1></a>\n",
        "# **1. Introduction**\n",
        "----"
      ]
    },
    {
      "cell_type": "markdown",
      "metadata": {
        "id": "XlPK1CwN9W5w"
      },
      "source": [
        "<br>  \n",
        "<center><img src=\"https://www.logo.wine/a/logo/Google_Cloud_Platform/Google_Cloud_Platform-Logo.wine.svg\"width=\"330\" height=\"200\"/></center>\n",
        "\n",
        "<br>  \n",
        "- Google cloud platform is a **medium** with the help of which people can easily access the **cloud systems** and other **computing** services which are developed by Google.\n",
        "\n",
        "- Google Cloud Platform is a set of **Computing**, **Networking**, **Storage**, **Big Data**, **Machine Learning** and Management services provided by Google that runs on the same **Cloud infrastructure** that Google uses internally for its **end-user** products, such as **Google Search**, **Gmail**, **Google Photos** and **YouTube**.\n",
        "\n",
        "- Various **services** provided by **GCP**:\n",
        "\n",
        "<br>  \n",
        "<center><img src=\"https://img.site24x7static.com/images/gcp-top-band-image.svg\"/></center>"
      ]
    },
    {
      "cell_type": "markdown",
      "source": [
        "- GCP first came online in 2008 with the **launch** of a product called A**pp Engine**.\n",
        "\n",
        "- In April 2008, Google announced a **preview release of App Engine**, a developer tool that allowed customers to run their **web applications** on Google infrastructure."
      ],
      "metadata": {
        "id": "nGOYhogQyWJV"
      }
    },
    {
      "cell_type": "markdown",
      "source": [
        "----\n",
        "<a id=section1></a>\n",
        "# **2. Services Provided by GCP**\n",
        "----"
      ],
      "metadata": {
        "id": "1gN79xUXvymU"
      }
    },
    {
      "cell_type": "markdown",
      "source": [
        "\n",
        "<br>  \n",
        "<center><img src=\"https://www.turbogeek.co.uk/wp-content/uploads/2019/02/word-image-4.png\"/></center>\n",
        "\n",
        "<br>  "
      ],
      "metadata": {
        "id": "FzgsayUeaNiZ"
      }
    },
    {
      "cell_type": "markdown",
      "metadata": {
        "id": "GYi_xw63tygP"
      },
      "source": [
        "----\n",
        "<a id=section1></a>\n",
        "# **3. GCP Storage Services**\n",
        "---"
      ]
    },
    {
      "cell_type": "markdown",
      "metadata": {
        "id": "KdrYMyMIJMZ-"
      },
      "source": [
        "<br>  \n",
        "<center><img src=\"https://raw.githubusercontent.com/insaid2018/DeepLearning/master/e2e/StorageDatabaseServices_Diagram-02.png\"/></center>\n",
        "\n",
        "<br>  "
      ]
    },
    {
      "cell_type": "markdown",
      "metadata": {
        "id": "4k6Sijt3DJFU"
      },
      "source": [
        "### **Google Cloud Storage**"
      ]
    },
    {
      "cell_type": "markdown",
      "metadata": {
        "id": "4K_bEYi_JWpU"
      },
      "source": [
        "<br>  \n",
        "<center><img src=\"https://raw.githubusercontent.com/insaid2018/DeepLearning/master/e2e/Google-Cloud-Storage-Reviews-1024x512-20200419.png\"width=\"400\" height=\"200\"/></center>\n",
        "\n",
        "- Cloud Storage allows **worldwide storage** and **retrieval** of any amount of data at any time.\n",
        "\n",
        "- We can use Cloud Storage for services like **serving website content**, **storing data** for archival and **backup**, or provide large data objects to **multiple users**.\n",
        "\n",
        "- Google Cloud Storage offers **direct** access to **Google’s scalable** storage and networking **infrastructure**, as well as **powerful authentication** and **data sharing** mechanisms.\n",
        "\n",
        "- It lets us store files of any size and **manage access** to your data on an individual or **group basis**.\n",
        "\n",
        "- Data stored in **Google Cloud Storage** can be **designated** as public or private. Public data can be **shared** with anyone, enabling us to use Google Cloud Storage as a **conduit** to making selected parts of our **data available** outside your company."
      ]
    },
    {
      "cell_type": "markdown",
      "metadata": {
        "id": "MT6r_F_emBer"
      },
      "source": [
        "**How to store Data in Google Cloud Storage**\n",
        "\n",
        "- We can upload and download files using the followng methods:\n",
        "\n",
        " -  **Using Cloud Storage GUI**\n",
        "\n",
        " - **Command Line Interface(CLI) using the gsutil tool**\n",
        "\n",
        " - **Google Cloud Storage’s REST API**"
      ]
    },
    {
      "cell_type": "markdown",
      "metadata": {
        "id": "oVK97IrqFteS"
      },
      "source": [
        "<a name=section301></a>\n",
        "### **3.1 Google Cloud Storage Bucket**"
      ]
    },
    {
      "cell_type": "markdown",
      "metadata": {
        "id": "sHJSlyObRTDY"
      },
      "source": [
        "#### **Create Bucket**"
      ]
    },
    {
      "cell_type": "markdown",
      "metadata": {
        "id": "RP9L7PC_HEwN"
      },
      "source": [
        "- Google Cloud Storage **buckets** are flexible and **scalable** cloud **containers** designed to store our **data** from any source or application regardless of **format or size**."
      ]
    },
    {
      "cell_type": "markdown",
      "source": [
        "- In our new project navigate to the **Cloud Storage** and **Buckets**.\n",
        "- As we are creating a new bucket, simply click on **Create**\n",
        "\n",
        "  \n",
        "<center><img src = \"https://drive.google.com/uc?export=download&id=1-_6JK-QwO8uruE4qZ6kMp9CTn2cVt9IK\"width=\"700\"height = \"400\"/><center>\n",
        "\n",
        "  \n",
        "\n",
        "\n",
        "<img src = \"https://drive.google.com/uc?export=download&id=10-pZuF5sZLgRR61_N-7Nv9UFwzC1dtD-\"/>\n",
        "\n",
        "\n",
        "- Choose a **globally unique** name for your bucket. Try creating unique names for your bucket to avoid discrepancies and get availability.\n",
        "\n",
        "<br>\n",
        "<img src = \"https://drive.google.com/uc?export=download&id=12FrFwbx4EyxayYed2tj3s7imVyPp5Jc5\"width=\"700\"height = \"300\" />\n",
        "\n",
        "\n",
        "\n",
        "- Next step is choosing **Storage Location**. GCP provide **multiple options** for **Geographic Location** placement of our data. Here we'll choose **regional** with location as **us-central1**.  \n",
        "\n",
        "\n",
        "<center><img src = \"https://drive.google.com/uc?export=download&id=1-mVD3Gvt4Mq4eh4tNCDbuOwI_m0zZ6BY\"/><center>\n",
        "\n",
        "\n"
      ],
      "metadata": {
        "id": "oW0qebsVnoXa"
      }
    },
    {
      "cell_type": "markdown",
      "source": [
        " - As such, GCS defines **4 bucket types** that we can choose from — **Standard, Archive, Nearline, and Coldline**. Here we'll go with the default **standard** storage class.\n",
        "\n",
        "<br>  \n",
        "<center><img src = \"https://drive.google.com/uc?export=download&id=1FwA3nsyNKPdaN4-tphBchuy4V_w8Bj1Z\"width=\"800\"height = \"500\"/></center>\n",
        "\n",
        "<br>\n",
        "\n",
        "- **Standard Storage**\n",
        "\n",
        "  - Standard Storage is best for data that is **frequently accessed** (\"hot\" data) and/or stored for only **brief periods** of time.\n",
        "\n",
        "- **Nearline Storage**\n",
        "\n",
        "  - Nearline Storage is a **low-cost**, **highly durable** storage service for storing **infrequently** accessed data.\n",
        "\n",
        "  - Nearline Storage is **ideal** for data you plan to **read or modify** on **average once per month** or less.\n",
        "  \n",
        "  - For example, if you want to **continuously** add files to **Cloud Storage** and plan to access those files **once a month** for analysis, Nearline Storage is a **great choice**.\n",
        "\n",
        "- **Coldline Storage**\n",
        "\n",
        "  - Coldline Storage is a **very-low-cost**, highly **durable** storage service for storing infrequently accessed data.\n",
        "  \n",
        "  - Coldline Storage is ideal for data you plan to **read or modify** at most **once a quarter**.\n",
        "\n",
        "- **Archive Storage**\n",
        "\n",
        "   - Archive Storage is the **lowest-cost**, highly durable storage service for data **archiving**, **online backup**, and **disaster recovery**.\n",
        "\n",
        "   - Like Nearline Storage and Coldline Storage, Archive Storage has a slightly **lower availability than Standard Storage**.\n",
        "   \n",
        "   - Archive Storage also has **higher costs** for **data access and operations**, as well as a **365-day minimum storage** duration.\n",
        "   \n",
        "   - Archive Storage is the best choice for data that you plan to access **less** **than once a year**.\n",
        "\n",
        "- **For example:**\n",
        "\n",
        "  -  **Cold data storage**: Archived data, such as data stored for **legal or regulatory reasons**, can be stored at a low cost as Archive Storage, yet still, be **available** if you need it.\n",
        "\n",
        "  -  **Disaster recovery**: In the event of a **disaster recovery event**, **recovery time** is key. Cloud Storage provides **low latency** access to data stored as Archive Storage."
      ],
      "metadata": {
        "id": "5cl5n9n_lVir"
      }
    },
    {
      "cell_type": "markdown",
      "source": [
        "- Next step is to choose **Access of objects**, which means who and what has the access to the **stored objects**.\n",
        "\n",
        "- **Fine-Grained control** uses GCP **IAM policies** to determine who has access to a specific resource. In uniform **access control** we won't be able to set **` access per object`** later on.\n",
        "\n",
        "<br>  \n",
        "<center><img src = \"https://drive.google.com/uc?export=download&id=1b-0sBqWCwp16KYkL66-RZQ_tOFgiyAYK\"width=\"700\"height = \"350\"/></center>\n",
        "\n",
        "<br>\n",
        "\n",
        "- Now choose the **security option** and **create**.\n",
        "\n",
        "<br>  \n",
        "<center><img src = \"https://drive.google.com/uc?export=download&id=1ySL_1oRxJYxHY_o_Ml2X72cXdRD64bhi\"width=\"700\"height = \"350\" /></center>\n",
        "\n",
        "<br>\n",
        "\n",
        "- This is how the **storage bucket** dashboard will look like.\n",
        "\n",
        "- Now we can also **upload files** and **folders** from the dashboard.\n",
        "\n",
        "- We will be **billed** for your **new file storage** bucket based on usage. The more we use it, the more we will **pay each month**.\n",
        "\n",
        "<br>  \n",
        "<center><img src = \"https://raw.githubusercontent.com/insaid2018/DeepLearning/master/e2e/ee/av22.png\" /></center>\n",
        "\n",
        "<br>\n"
      ],
      "metadata": {
        "id": "ya3azSQzv1Er"
      }
    },
    {
      "cell_type": "markdown",
      "source": [
        "----\n",
        "<a id=section1></a>\n",
        "# **4. Deployment Methods on GCP**\n",
        "---"
      ],
      "metadata": {
        "id": "DiyJHhReFEwo"
      }
    },
    {
      "cell_type": "markdown",
      "source": [
        "<br>  \n",
        "<center><img src = \"https://raw.githubusercontent.com/insaid2018/DeepLearning/master/e2e/ee/mg3.png\" /></center>\n",
        "\n",
        "<br>  \n",
        "\n"
      ],
      "metadata": {
        "id": "cpz8dVq7MsWl"
      }
    },
    {
      "cell_type": "markdown",
      "source": [
        "<a name=section301></a>\n",
        "### **4.1 Google Compute Engine**"
      ],
      "metadata": {
        "id": "cEuRDNEep02F"
      }
    },
    {
      "cell_type": "markdown",
      "source": [
        "- Compute Engine is an **Infrastructure-as-a-Service** product offering flexible, self-managed **virtual machines** (VMs) hosted on **Google's infrastructure**.\n",
        "\n",
        "- Compute Engine includes **Linux and Windows** based VMs, local and durable storage options, and a simple **REST based API** for **configuration and control**.\n",
        "   \n",
        "- While implementing **GCE**, an individual could have the **opportunity** for making **Virtual Machines**, locating **CPU and Memory**, a piece of Storage such as **SSD or HDD**, along with **quality and quantity** of storage.\n",
        "\n",
        "-  At GCE, one can **pick** abacus cases that could be of **variable range** in terms of storage, even **customized virtual machines** can be built according to workloads.\n",
        "\n",
        "<center><img src=\"https://k21academy.com/wp-content/uploads/2021/01/Google_Compute_Engine-Logo-400x267.png\"/></center>\n",
        "\n",
        "\n",
        "- Virtual Machines in layman’s language can be understood as a **digital version of the physical computer**.\n",
        "- It is a virtualized instance of a computer that **can perform almost all the functions as that of a computer**.\n",
        "\n",
        "- Each virtual machine consists of a complete operating system and a set of virtualized hardware resources, including CPU, memory, storage, and network interfaces. **The operating system running inside the virtual machine is isolated** from the host operating system and other virtual machines running on the same physical machine. Virtual machines run on a physical machine and access computing resources from the software which is known as a hypervisor.\n",
        "\n",
        "- **Google Compute Engine** is Google’s **Infrastructure-as-a-Service virtual machine offering**.  It allows customers to use virtual machines in the cloud as server resources instead of acquiring and managing server hardware.\n",
        "\n",
        "<center><img src=\"https://k21academy.com/wp-content/uploads/2021/01/Virtual-machine.jpg\"width=\"600\" height=\"500\"/></center>"
      ],
      "metadata": {
        "id": "S1ac5cYDEgPt"
      }
    },
    {
      "cell_type": "markdown",
      "source": [
        "<a name=section301></a>\n",
        "### **4.2 Google Kubernetes Engine**"
      ],
      "metadata": {
        "id": "UIWWut_Jp767"
      }
    },
    {
      "cell_type": "markdown",
      "source": [
        "- Kubernetes, also known as K8s, is an **open-source** system for **automating** **deployment**, **scaling**, and **management** of containerized applications.\n",
        "\n",
        "- Kubernetes is a **portable**, **extensible**, open-source platform for managing **containerized** **workloads** and **services**, that facilitates both **declarative configuration** and **automation**.\n",
        "\n",
        "- Containers are similar to **VMs**, but they have **relaxed** isolation properties to share the **Operating System** (OS) among the applications. Therefore, containers are **considered lightweight**.\n",
        "\n",
        "- Similar to a VM, a **container** has its own **filesystem**, **share of CPU**, **memory, process space**, and more.\n",
        "\n",
        "<center><img src=\"https://devopedia.org/images/article/132/8347.1543060432.svg\"/width='500'></center>\n",
        "\n",
        "**Why you need Kubernetes and what it can do:**\n",
        "\n",
        "- Orchestrate **containers** across **multiple hosts**.\n",
        "\n",
        "-  Make better use of hardware to **maximize resources needed** to run your enterprise apps.\n",
        "\n",
        "- **Control and automate application** deployments and updates.\n",
        "\n",
        "- **Mount and add storage** to run stateful apps.\n",
        "\n",
        "- **Scale containerized applications** and their resources on the fly.\n",
        "\n",
        "- Declaratively manage services, which guarantees the deployed applications are always running the way you intended them to run.\n",
        "\n",
        "- **Health-check and self-heal** your apps with **auto placement**, **auto restart**, auto replication, and auto scaling."
      ],
      "metadata": {
        "id": "ioKRUF4cFRLB"
      }
    },
    {
      "cell_type": "markdown",
      "source": [
        "<a name=section301></a>\n",
        "### **4.3 Google App Engine**"
      ],
      "metadata": {
        "id": "qcRiSBNMp7-K"
      }
    },
    {
      "cell_type": "markdown",
      "source": [
        "- **Google App Engine** (GAE) is a service for **developing** and **hosting** Web applications in Google's **data centers**, belonging to the **platform as a service** (PaaS) category of **cloud computing**.\n",
        "\n",
        "- Web **applications** hosted on GAE are **sandboxed** and run across **multiple** servers for **redundancy** and allowing for scaling of resources according to the traffic **requirements** of the moment.\n",
        "\n",
        "- App Engine automatically **allocates additional resources** to the servers to accommodate increased load.\n",
        "\n",
        "**Services provided by App Engine includes:**\n",
        "\n",
        "- **Platform as a Service** (PaaS) to build and **deploy** scalable applications\n",
        "    \n",
        "- Hosting facility in **fully-managed** data centers.\n",
        "\n",
        "- A **fully-managed**, **flexible environment** platform for managing application server and infrastructure"
      ],
      "metadata": {
        "id": "6GpxL91xzLoB"
      }
    },
    {
      "cell_type": "markdown",
      "source": [
        "<center><img src=\"https://i0.wp.com/i.ibb.co/TrStmGN/Google-App-Engine.jpg?w=1230&ssl=1\"/></center>\n",
        "\n",
        "**Advantages of GAE include:**\n",
        "\n",
        "- Google app engine allows you to **build web applications** on the same stable and extendable platform which has **support facility** of Google’s large number of applications.\n",
        "\n",
        "- Google app engine gives **facility** to use and run **applications** in Google's data center.\n",
        "\n",
        "- Google **app engine's** language Java and Python are easy to understand and implement.\n",
        "\n",
        "- This platform is **absolutely free**; you can purchase additional resources if needed.\n",
        "\n",
        "- Using Google accounts you can use **Google app engine's** services.\n",
        "   \n",
        "- It is easy to scale up as your data **storage and traffic needs** grow with time.\n",
        "\n",
        "- Users can easily write the **application** code and can test it on their own local system and upload it to Google at the click of a button or with a few lines of **command script**.\n",
        "    \n",
        "- Google takes care of all the **apps maintenance** and allows users/developers to focus on the features of the application."
      ],
      "metadata": {
        "id": "r0aKXh0Hb4Hi"
      }
    },
    {
      "cell_type": "markdown",
      "source": [
        "<a name=section301></a>\n",
        "### **4.4 Google Cloud Functions**"
      ],
      "metadata": {
        "id": "yba1L_Tip8BJ"
      }
    },
    {
      "cell_type": "markdown",
      "source": [
        "- With **Cloud Functions**, there are **no servers** to provision, manage, patch, or update.\n",
        "\n",
        "- Functions **automatically** scale and are **highly available** and **fault-tolerant**.\n",
        "\n",
        "- **Cloud Functions** are great for building **serverless backends**, doing real-time data processing, and creating intelligent apps.\n",
        "\n",
        "- A Function is an **independent** unit of deployment, as a **microservice**. It's merely code, **deployed** in the cloud, that is most often **written** to perform a single job such as:\n",
        "\n",
        "  - **Saving a user to the database**\n",
        "    \n",
        "  - **Processing a file in a database**\n",
        "  \n",
        "  - **Performing a scheduled task**\n",
        "\n",
        "<center><img src=\"https://storage.googleapis.com/gweb-cloudblog-publish/images/2__Cloud_Functions.max-800x800.jpg\"/></center>"
      ],
      "metadata": {
        "id": "27QSn0cEG2ye"
      }
    },
    {
      "cell_type": "markdown",
      "source": [
        "<a name=section301></a>\n",
        "### **4.5 Which method should we choose?**"
      ],
      "metadata": {
        "id": "Qy5uENmnp8YD"
      }
    },
    {
      "cell_type": "markdown",
      "source": [
        "#### ***What level of abstraction do you need?***\n",
        "\n",
        "- If you need **more control** over the **underlying infrastructure** (for example, the operating system, disk images, CPU, RAM, and disk) then it makes sense to use **Compute Engine**.\n",
        "\n",
        "- If your **applications are containerized**:\n",
        "\n",
        "    - You can use  **GKE**, which gives you **full control** over the container down to the nodes with specific **OS, CPU, GPU, disk, memory, and networking**.\n",
        "    \n",
        "    - GKE also offers **Autopilot**, when you need the **flexibility and control** but have limited **ops** and **engineering** support.\n",
        "\n",
        "- Use **App Engine** if you just want to code up your **HTTP-based application** and leave the **scalability and deployment** of the app to Google Cloud then\n",
        "\n",
        "- If your code is a **function** and just **performs** an action based on an **event/trigger**, then deploying it with **Cloud Functions** makes sense."
      ],
      "metadata": {
        "id": "V5TlsrGVIkFl"
      }
    },
    {
      "cell_type": "markdown",
      "source": [
        "#### ***What is your use case?***\n",
        "\n",
        "- Use Compute Engine if you are **migrating** a legacy application with specific **licensing, OS, kernel, or networking** requirements. Examples: Windows-based applications, genomics processing.\n",
        "\n",
        "- Use GKE if your application needs a **specific OS or network** protocols beyond HTTP/s.\n",
        "\n",
        "    - When you use **GKE**, you are using **Kubernetes**, which makes it easy to **deploy and expand** into **hybrid and multi-cloud** environments.\n",
        "\n",
        "- Use App Engine if you want to deploy and host a web based application (HTTP/s) in a **serverless platform**. Examples: **web applications**, **mobile app** backends\n",
        "\n",
        "- Use Cloud Functions if your code is a **function** and just performs an action based on an **event/trigger** from **Pub/Sub** or **Cloud Storage**.\n",
        "\n",
        "  - Example: Kick off a **video transcoding** function as soon as a **video** is saved in your **Cloud Storage bucket**.\n"
      ],
      "metadata": {
        "id": "yvhQHDQurl1y"
      }
    },
    {
      "cell_type": "markdown",
      "source": [
        "#### ***What are your team dynamics like?***\n",
        "\n",
        "- If you have a small team of **developers** and you want their attention focused on the code, then a **serverless option** App Engine is a good choice because you won’t have to have a team **managing the infrastructure**, **scale**, and **operations**.\n",
        "\n",
        "- If you have bigger teams, along with your **tools and processes**, then Compute Engine or **GKE** makes more sense because it enables you to define your process for **CI/CD, security**, scale, and operations.\n",
        "\n",
        "#### ***What type of billing model do you prefer?***\n",
        "\n",
        "- Compute Engine and GKE billing models are **based on resources**, which means you **pay for the instances** you have provisioned, independent of usage.\n",
        "\n",
        "- App Engine and Cloud Functions are **billed per request**, which means you **pay as you go**."
      ],
      "metadata": {
        "id": "CrJoy7g1ruGN"
      }
    },
    {
      "cell_type": "markdown",
      "source": [
        "----\n",
        "<a id=section1></a>\n",
        "# **5. Create Compute Engine Instance**\n",
        "---"
      ],
      "metadata": {
        "id": "TL6mBx-mJ97E"
      }
    },
    {
      "cell_type": "markdown",
      "source": [
        "- Create or select your project, and navigate to the **VM instances** in the **Google Cloud Console**.\n",
        "\n",
        "<br>  \n",
        "<center><img src=\"https://drive.google.com/uc?export=download&id=10bt8Z0HKPXxHBwGK-UV2BChmCC9uAbWB\"/></center>\n",
        "\n",
        "<br>  \n",
        "\n",
        "\n",
        "- Click **Create instance** to start with creating the VM instance. You can choose how you want to create the image, i.e from a **template, machine image or a marketplace**\n",
        "\n",
        "<br>  \n",
        "<center><img src=\"https://drive.google.com/uc?export=download&id=1dFsWnESVZPGK1XSNI1nma47JWbkPtz2b\"/></center>\n",
        "\n",
        "<br>  \n",
        "\n",
        "<br>  \n",
        "<center><img src=\"https://drive.google.com/uc?export=download&id=1cIvIYmqeXfpPFaNcS_QeRtY8XlMfTZFg\"/></center>\n",
        "\n",
        "<br>\n",
        "\n",
        "- Create a **unique name** for your instance. Here are some of the naming conventions\n",
        "\n",
        "<br>  \n",
        "<center><img src=\"https://drive.google.com/uc?export=download&id=1bVuWCStDZzU6K0EWZt6iBWT5Xo-32NYy\"/></center>\n",
        "\n",
        "<br>\n",
        "\n",
        "- Now choose a **region for your VM**, note that regions are a permanent configuration for your VM, i.e can't be changed after creatin and your charges are adjusted accordingly as well.\n",
        "\n",
        "<br>  \n",
        "<center><img src=\"https://drive.google.com/uc?export=download&id=1CWYoMFc47eKI0ZilIF_utxJDlC_yS38p\"/></center>\n",
        "\n",
        "<br>  \n",
        "\n",
        "- Now select a **Machine configuration** for your VM.\n",
        "\n",
        "- Here we are selecting **General purpose** small instance that comes with **Single core and 2 GB RAM**.\n",
        "\n",
        "- Go through the [**link**](https://cloud.google.com/compute/all-pricing) to understand more types of **compute instances** and their pricing.\n",
        "\n",
        "<br>  \n",
        "<center><img src=\"https://drive.google.com/uc?export=download&id=1uCH9TT6dZTMahzYAPWm65CEs7jxvYh4G\"/></center>\n",
        "\n",
        "<br>  \n",
        "\n",
        "- You can click on **Enable Display** if you want to **record your screen**, as we do not need that now, **we will leave it as it is**.\n",
        "\n",
        "- If you want to **deploy a container** on your instance, you can do that as well. Check out the settings provided on that specific section.\n",
        "\n",
        "- Now comes the **Boot Disk** part, **here we select the type and size of the instance.** The **default** type is a Debian Image with 10GB disk.\n",
        "\n",
        "<br>  \n",
        "<center><img src=\"https://drive.google.com/uc?export=download&id=1OfIjcUAq2WkgrlFEuME6F7TfxbIOSTIa\"/></center>\n",
        "\n",
        "<br>  \n",
        "\n",
        "- We will be changing our type of image to **Ubuntu** for a bit more familiarity with the console\n",
        "\n",
        "<br>  \n",
        "<center><img src=\"https://drive.google.com/uc?export=download&id=1XYNT_hV8gdm_lW5_J0OMPwrBiw4syvnD\"/></center>\n",
        "\n",
        "<br>  \n",
        "\n",
        "- In the Identity and API access, we choose the billing account where all the APIs are enabled. The **Identity and API Access select Allow full access to all cloud APIs.**\n",
        "\n",
        "- In the Firewall section, **to permit HTTP or HTTPS traffic to the VM**, **select Allow HTTP traffic or Allow HTTPS traffic**. When you select one of these, Compute Engine adds a network tag to your VM, which associates the firewall rule with the VM.\n",
        "\n",
        "- **Finally click on create and wait for a few minutes.** You can see an estimate cost of running this instance on the right hand side. You can adjust your settings accordingly.\n",
        "\n",
        "<br>  \n",
        "<center><img src=\"https://drive.google.com/uc?export=download&id=1UEHeYCu0xWheSuqqc903pzdjU6vRwAs-\"/></center>\n",
        "\n",
        "<br>  \n",
        "\n",
        "- **Congratulations you just created your very own VM Instance!!**\n",
        "\n",
        "<br>  \n",
        "<center><img src=\"https://drive.google.com/uc?export=download&id=1WYJE58vMbnYM8gIBW3qBz3rNlwGWFOIH\"/></center>\n",
        "\n",
        "<br>  \n",
        "\n",
        "\n",
        "\n"
      ],
      "metadata": {
        "id": "RdRjCHPTa1Xm"
      }
    },
    {
      "cell_type": "markdown",
      "source": [
        "\n",
        "- **SSH** or \"**Secure Shell**,\" and it is a **cryptographic network protocol used for securely accessing and managing remote machines** over a **potentially unsecured network**. It provides a secure way to log into a remote server, execute commands, and transfer files between computers. SSH is widely used in various contexts, including virtual machine (VM) instances.\n",
        "\n",
        "- **SSH allows you to remotely connect to and manage the VM's operating system.**\n",
        "\n",
        "- **Click on SSH**. It will open a **pop-up window** that will lead us to the **console of created VM**.\n",
        "\n",
        "<br>  \n",
        "<center><img src=\"https://drive.google.com/uc?export=download&id=1EBwOM-ogWAxwwZmXY3hEIn4dIKEQzvqz\"/></center>\n",
        "\n",
        "<br>  \n",
        "\n",
        "- After the SSH connection is made your console will look something like this:\n",
        "\n",
        "<br>  \n",
        "<center><img src=\"https://drive.google.com/uc?export=download&id=1IesSK693o3YSG296WdmFiIXWRaDeX7n1\"/></center>\n",
        "\n",
        "<br>\n",
        "\n",
        "- This will showcase all the **details of your VM Instance** like the type of connection, memory used, swap usage, IP Address etc.\n",
        "\n",
        "- Your **instance name along with your account name** will be displayed as the console environment.\n",
        "\n",
        "- To check whether our VM Instance runs actively, **let's perform a simple task of getting a list of VMs created.**\n",
        "\n",
        "- Before we run the command, we will **authenticate our GCP account**, in order to access the project in which the VM is created. We will run a simple authentication code:\n",
        "\n",
        "\n",
        "\n",
        "```\n",
        "gcloud auth login\n",
        "```\n",
        "- This will produce a **link for an authentication code**, we will simply paste that link in the browser and add the authentication code in order to access the current project.\n",
        "\n",
        "<br>  \n",
        "<center><img src=\"https://drive.google.com/uc?export=download&id=1xifcdINh4fm19pZng-5XNjBx5PrGjSFv\"/></center>\n",
        "\n",
        "<br>\n",
        "\n",
        "<br>  \n",
        "<center><img src=\"https://drive.google.com/uc?export=download&id=1AI2u1aLTiEdm1z9H4pDAq3k3U3xaU0o-\"/></center>\n",
        "\n",
        "<br>\n",
        "\n",
        "- After you put the code, you will by default be in the project you're working on, if you want to change the project, you can do that as well.\n",
        "\n",
        "- Now simply **run the code** for getting a list of VMs created and there you have it a functioning instance.\n",
        "\n",
        "\n",
        "\n",
        "```\n",
        "gcloud compute instances list\n",
        "```\n",
        "\n",
        "\n",
        "\n",
        "<br>  \n",
        "<center><img src=\"https://drive.google.com/uc?export=download&id=1my5ZWiB9oG8h-P_sCv_vhO1ervla8_jp\"/></center>\n",
        "\n",
        "<br>\n",
        "\n",
        "- You can **monitor the working of your VM from the Observability tab**, which gives you on option to keep an eye on the **traffic, memory, processes and disks used etc.**\n",
        "\n",
        "<br>  \n",
        "<center><img src=\"https://drive.google.com/uc?export=download&id=1N2PSwEumItTEyXBh0eInvB2f4EJ9uXAT\"/></center>\n",
        "\n",
        "<br>\n",
        "\n",
        "\n",
        "\n",
        "- Check out this [link](https://cloud.google.com/compute/docs/instances/get-list) to navigate and get comfortable with your VM Instance.\n",
        "\n"
      ],
      "metadata": {
        "id": "yEpIMeywbJ0Q"
      }
    },
    {
      "cell_type": "markdown",
      "source": [
        "#### **Cleanup**:\n",
        "\n",
        "- **To avoid unnecessary charges of running an active VM,** it's important to cleanup your project if you're not going to use it further.\n",
        "\n",
        "- Simply **select your VM Instance and click on Delete**. Your Instance will be deleted.\n",
        "\n",
        "<br>  \n",
        "<center><img src=\"https://drive.google.com/uc?export=download&id=1aFlh03nWc86IsLsuqDt_K28EMOqHhhUN\"/></center>\n",
        "\n",
        "<br>\n"
      ],
      "metadata": {
        "id": "HbY9g3RPGSCj"
      }
    },
    {
      "cell_type": "markdown",
      "source": [
        "- You can also explore **marketplace** option in **left sidebar**. Here We can find **third party tools**, **Custom Images**, **Databases** that can be integrated with our VM.\n",
        "\n",
        "<br>  \n",
        "<center><img src=\"https://raw.githubusercontent.com/insaid2018/DeepLearning/master/e2e/bas13.png\"width=\"900\" height=\"420\"/></center>\n",
        "\n",
        "<br>  "
      ],
      "metadata": {
        "id": "M_ON8a6Lb_Oe"
      }
    },
    {
      "cell_type": "markdown",
      "source": [
        "----\n",
        "<a id=section1></a>\n",
        "# **6. AI/ML on GCP**\n",
        "---"
      ],
      "metadata": {
        "id": "GUPv4hDoydsv"
      }
    },
    {
      "cell_type": "markdown",
      "source": [
        "-  The most **compelling advantages** of AI cloud are the challenges it **addresses**.\n",
        "\n",
        "- It **democratises AI**, making it more accessible. By lowering **adoption costs** and facilitating **co-creation** and innovation , it drives **AI-powered** **transformation for enterprises**.\n",
        "\n",
        "- Google Cloud's **AI tools** are armed with the best of Google's research and **technology** to help developers focus **exclusively on solving problems** that matter.\n",
        "\n",
        "<br>  \n",
        "<center><img src=\"https://miro.medium.com/v2/resize:fit:828/format:webp/1*hrP5wvrcWqTN_kBWeP36MQ.jpeg\"/></center>\n",
        "\n",
        "<br>"
      ],
      "metadata": {
        "id": "LuQ0EPVDykOL"
      }
    },
    {
      "cell_type": "markdown",
      "source": [
        "<a name=section301></a>\n",
        "### **6.1 Cloud AI Platform**"
      ],
      "metadata": {
        "id": "or0pQFkM-sn_"
      }
    },
    {
      "cell_type": "markdown",
      "source": [
        "- Google AI Platform is a **one-stop solution** for machine learning developers and data scientists to take their **ML projects** from **experiment to production** and deployment.\n",
        "\n",
        "- AI Platform **integrated with several easy-to-use** tools that help us build and **run** our own machine learning **applications** quickly.\n",
        "\n",
        "- AI Platform Tools can be used in:\n",
        "\n",
        "    - **Train an ML model** on your data:\n",
        "\n",
        "        - **Train model**\n",
        "\n",
        "        - **Evaluate model accuracy**\n",
        "\n",
        "        - **Tune hyperparameters**\n",
        "\n",
        "    - **Deploy your trained model**.\n",
        "\n",
        "    - **Send prediction requests** to your model:\n",
        "\n",
        "        - Online prediction\n",
        "\n",
        "        - Batch prediction (for TensorFlow only)\n",
        "\n",
        "    - **Monitor the predictions** on an ongoing basis.\n",
        "\n",
        "    - **Manage your models** and model versions.\n"
      ],
      "metadata": {
        "id": "tyAOXYOl5hB9"
      }
    },
    {
      "cell_type": "markdown",
      "source": [
        "<a name=section301></a>\n",
        "### **6.2 Auto ML**"
      ],
      "metadata": {
        "id": "hUbVmx2y-yei"
      }
    },
    {
      "cell_type": "markdown",
      "source": [
        "- **Cloud AutoML** enables developers with **limited machine learning** and **programming expertise** to train **high-quality models** specific to their business needs.\n",
        "\n",
        "- This service leverages Google’s **research technology** and also relies on Google’s **state-of-the-art transfer learning** and neural architecture search technology to achieve **faster performance** and more accurate predictions.\n",
        "\n",
        "- People can **train, evaluate, improve**, and deploy custom machine learning models to solve problems for **Vision, Translation, and Natural Language** by using a simple **graphical user interface** within a few minutes.\n",
        "\n",
        "<br>  \n",
        "<center><img src=\"https://miro.medium.com/v2/resize:fit:828/format:webp/1*OBklHN_x4Cx1zgcjOoWeCQ.png\"/></center>\n",
        "\n",
        "<br>"
      ],
      "metadata": {
        "id": "XVX98z266mJl"
      }
    },
    {
      "cell_type": "markdown",
      "source": [
        "- **Google Cloud Vision**\n",
        "\n",
        "  - It has two different services: **Vision API and AutoML vision**.\n",
        "\n",
        "  - Vision API can be used to **detect objects** and faces, read printed and handwritten text, and build valuable metadata into your image catalog.\n",
        "\n",
        "  - AutoML Vision can be used to **automate the training** of your own **custom** machine learning models.\n",
        "\n",
        "- **GCP AutoML Text**\n",
        "\n",
        "    - It is an auto ml service that is used to **analyze the text** to finding **sentiments**, known **entities**, and **topics/categories** associated with the text.\n",
        "\n",
        "- **GCP Tabular AutoML**\n",
        "\n",
        "    - It is used to **analyze** the content of tabular data.\n",
        "\n",
        "    - It provides **regression and classification** models to extract numerical data from the **tabular document** and classify the document into different **categories**.\n",
        "    \n",
        "    - In addition, if the data present in tabular form is **time-series data**, it also provides a **forecasting model** for predicting a **series** of numeric values."
      ],
      "metadata": {
        "id": "WIRabqaV68nX"
      }
    },
    {
      "cell_type": "markdown",
      "source": [
        "**AI Infrastructure Tools**"
      ],
      "metadata": {
        "id": "KgnmtjSHDMB4"
      }
    },
    {
      "cell_type": "markdown",
      "source": [
        "- **Deep Learning Containers**\n",
        "\n",
        "  - GCP provides **preconfigured and optimized containers** for deep learning environments.\n",
        "\n",
        "- **Deep Learning VM Image**\n",
        "\n",
        "  - **Preconfigured VMs** for deep learning applications.\n",
        "\n",
        "- **GPUs**\n",
        "\n",
        "  - GCP provides **High-performance GPUs** for machine learning, scientific computing, and **3D visualization**."
      ],
      "metadata": {
        "id": "VCnFyCom7LRE"
      }
    },
    {
      "cell_type": "markdown",
      "metadata": {
        "id": "06C9WC6UkINA"
      },
      "source": [
        "----\n",
        "<a id=section1></a>\n",
        "# **7. Vertex AI**\n",
        "---"
      ]
    },
    {
      "cell_type": "markdown",
      "source": [
        "- **Vertex AI** brings **AutoML and AI Platform** together into a **unified API**, client library, and user interface.\n",
        "\n",
        "- With Vertex AI, both **AutoML training and custom training** are available options.\n",
        "\n",
        "<br>  \n",
        "<center><img src=\"https://miro.medium.com/v2/resize:fit:720/format:webp/0*A_pe2Yk-ir1ghU3B.png\"/></center>\n",
        "\n",
        "<br>"
      ],
      "metadata": {
        "id": "9ypmYkwL9P72"
      }
    },
    {
      "cell_type": "markdown",
      "source": [
        "- Vertex AI **provides** you all required **Google’s cloud services** in one place to **deploy** and **maintain** AI models.\n",
        "\n",
        "- Considering it as a **managed platform**, it automates things for you and lets you focus on more important things in a **machine learning workflow**."
      ],
      "metadata": {
        "id": "WOQwW0jvZ6ws"
      }
    },
    {
      "cell_type": "markdown",
      "source": [
        "- The Vertex AI platform boasts tools that help with everything from the beginning stages of **data collection** to **analysis**, **validation**, **transformation**, **model training**, **evaluation**, **serving** the model, and **metadata tracking**.\n",
        "\n",
        "- Using Vertex AI not only **simplifies** the **initial development** process but streamlines the **iteration process** as the model is adjusted over time.\n",
        "\n",
        "- By using Vertex AI in **combination** with other Google offerings like **AutoML**, **companies** can effectively build working **ML projects** without data science experience."
      ],
      "metadata": {
        "id": "aD0fSoYha5gQ"
      }
    },
    {
      "cell_type": "markdown",
      "source": [
        "- Vertex AI provides **unified definitions**/**implementations** of following concepts:\n",
        "\n",
        "    - A dataset can be **structured or unstructured**. It has managed metadata including **annotations**, and can be stored anywhere on GCP.\n",
        "\n",
        "   - A training pipeline is a **series** of **containerized steps** that can be used to train an **ML model** using a dataset.\n",
        "  \n",
        "  - An endpoint can be **invoked by users** for **online predictions** and explanations.\n",
        "\n",
        "<br>  \n",
        "<center><img src=\"https://miro.medium.com/v2/resize:fit:828/format:webp/1*euQEeEQksTscSaw1vbXs7Q.png\"/></center>\n",
        "\n",
        "<br>"
      ],
      "metadata": {
        "id": "I0jIrN64aOK0"
      }
    },
    {
      "cell_type": "markdown",
      "source": [
        "- Machine Learning workflow is a **long process** where different platforms are involved.\n",
        "\n",
        "- However, Vertex AI comes up with a **unified API and UI** with access to all the Google Cloud services.\n",
        "\n",
        "- You can simply **train AI models** with custom code training and store them in a single repository. Additionally, they can be **deployed** to the same endpoints.\n",
        "    \n",
        "- Infusion of **vision, translation, natural language**, and video in ML will be an easy task with **pre-trained API** available in Vertex AI.  "
      ],
      "metadata": {
        "id": "6nSNFQnyG9Vw"
      }
    },
    {
      "cell_type": "markdown",
      "source": [
        "#### **Benefits of Vertex AI**\n",
        "\n",
        "- Machine Learning developers don’t necessarily have to be **programming experts** as the **managed platform** involves 80% fewer line codes.\n",
        "\n",
        "- On the other hand, **pre-trained API** makes the job easier for the development of AI devices.\n",
        "  \n",
        "- Competitive platforms and **custom libraries** allow businesses to design a high-class **Machine Learning devices**.\n",
        "\n",
        "- In support of that, advanced **ML coding** also works for the same feat.\n",
        "  \n",
        "- With MLOps tools like **Vertex ML Metadata**, **Vertex Pipelines**, and **Vertex Model Monitoring**, you can manage the ML workflow easily.\n",
        "\n",
        "- These tools remove the **complexity of repeatability** and self-service maintenance.\n",
        "\n",
        "<br>  \n",
        "<center><img src=\"https://lh3.googleusercontent.com/r0KbyKCfNFYgWc_uoFJ3FSthLKwawMN2DG95k2dtdtoO7IYtt5Iw5ei7ZpWybwOSLYfFqbTdyVI3=e14-rw-lo-sc0xffffff-h800-w953\"/></center>\n",
        "\n",
        "<br>"
      ],
      "metadata": {
        "id": "UFo0MjEBGH3O"
      }
    },
    {
      "cell_type": "markdown",
      "source": [
        "- We are very familiar with **working in notebooks** when it comes to building a model.\n",
        "\n",
        "<br>  \n",
        "<center><img src=\"https://storage.googleapis.com/gweb-cloudblog-publish/images/image9_qEDIo7f.max-1700x1700.png\"/></center>\n",
        "\n",
        "<br>\n",
        "\n",
        "- Vertex AI Workbench offers a **managed notebooks option** with built-in integrations that help you to set up an **end-to-end notebook-based** production environment.\n",
        "\n",
        "- For users who need **full control** over their environment, Vertex AI Workbench provides a **user-managed notebooks** option.\n",
        "\n",
        "- Both notebook options are **prepackaged** with JupyterLab and have a preinstalled suite of **deep learning packages**, including support for the **TensorFlow and PyTorch frameworks**.\n",
        "\n",
        "\n",
        "- You can use **CPU-only or GPU-enabled** instances.\n",
        "\n",
        "- Vertex AI Workbench notebook **instances** also integrate with **GitHub** so that you can sync your **notebook with a GitHub repository**."
      ],
      "metadata": {
        "id": "UCZwtED3H9j0"
      }
    },
    {
      "cell_type": "markdown",
      "source": [
        "### **Creating a Vertex AI Workbench Notebook**"
      ],
      "metadata": {
        "id": "NQ1KJo5vGmAm"
      }
    },
    {
      "cell_type": "markdown",
      "source": [
        "- Under a new or same project, search for **Vertex AI** in your console and navigate to the Workbench section.\n",
        "\n",
        "<br>  \n",
        "<center><img src=\"https://drive.google.com/uc?export=download&id=1ea91qO6sis1WR9fw5JWn7OAXi7KzJ4Ot\"/></center>\n",
        "\n",
        "<br>\n",
        "\n",
        "- Click on **Create New Notebook** under **Managed Notebooks** Section and you will land on the settings page.\n",
        "\n",
        "<br>  \n",
        "<center><img src=\"https://drive.google.com/uc?export=download&id=1xNXWMJ4j9RY_X7_JABO3hjs7_wMbuUy7\"/></center>\n",
        "\n",
        "<br>\n",
        "\n",
        "- Give your notebook a **unique name and set a region**.\n",
        "\n",
        "<br>  \n",
        "<center><img src=\"https://drive.google.com/uc?export=download&id=1NGkFgm7E9ueSMyieYF32PkpSBTMRDTIQ\"/></center>\n",
        "\n",
        "<br>\n",
        "\n",
        "- You can **customise your notebook according to your needs**, like choosing the **option of GPUs** etc and finally clicking on create will make a Jupyter Lab Notebook.\n",
        "\n",
        "<br>  \n",
        "<center><img src=\"https://drive.google.com/uc?export=download&id=1thQNW8x9kfVRL9UUCVPhEviAz8DH1cM1\"/></center>\n",
        "\n",
        "<br>\n",
        "\n",
        "- **Vertex AI also gives you an option to set a downtime so you're not charged for a period of inactivity**, taking pay as you go on another level.\n",
        "\n",
        "<br>  \n",
        "<center><img src=\"https://drive.google.com/uc?export=download&id=1WdZkFur5rxKujNHQZDW8w_F66wFIBR8T\"/></center>\n",
        "\n",
        "<br>\n",
        "\n",
        "- Check the pricing prediction and simply click on **Create** to create a new notebook.\n",
        "\n",
        "<br>  \n",
        "<center><img src=\"https://drive.google.com/uc?export=download&id=1FS5mFuI8HyMsI1vMdc_r25Bvu6pWF4HC\"/></center>\n",
        "\n",
        "<br>\n",
        "\n",
        "- It takes about 5 minutes, when the **Open JupyterLab button turns blue**, you're good to go and get on coding. **Vertex AI gives you a lot of options and multi kernel support to set the working environment for you.**\n",
        "\n",
        "- You can also **pip install additional libraries** that are included by default.\n",
        "\n",
        "<br>  \n",
        "<center><img src=\"https://drive.google.com/uc?export=download&id=18G4mO6oOe9bortFNLH7sj0FiN5BxqZjl\"/></center>\n",
        "\n",
        "<br>\n",
        "\n",
        "<br>  \n",
        "<center><img src=\"https://drive.google.com/uc?export=download&id=1xxm0WX4exdSEbmoYwBLk47Do4uwaFbF2\"/></center>\n",
        "\n",
        "<br>"
      ],
      "metadata": {
        "id": "8IbTyuUu1EAt"
      }
    },
    {
      "cell_type": "markdown",
      "source": [
        "----\n",
        "<a id=section1></a>\n",
        "# **8. Conclusion**\n",
        "---"
      ],
      "metadata": {
        "id": "0s_RqB6n45HV"
      }
    },
    {
      "cell_type": "markdown",
      "source": [
        "- **Different analysts and technology** companies predict future AI usage in different **industries** with different use cases.\n",
        "\n",
        "- Cloud **delivery** and cloud computing models will help much to shape to use of AI use **cases effectively**.\n",
        "\n",
        "- When it comes to Machine Learning devices, **Vertex AI** has infused a new life.\n",
        "\n",
        "- The unified platform has shown the bright future of Machine Learning and why it is considered a **must-have** for businesses **worldwide**."
      ],
      "metadata": {
        "id": "fpx2WFsu41TX"
      }
    }
  ]
}